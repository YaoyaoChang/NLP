{
  "cells": [
    {
      "cell_type": "markdown",
      "metadata": {
        "id": "view-in-github",
        "colab_type": "text"
      },
      "source": [
        "<a href=\"https://colab.research.google.com/github/YaoyaoChang/NLP/blob/master/notebooks/google_colab.ipynb\" target=\"_parent\"><img src=\"https://colab.research.google.com/assets/colab-badge.svg\" alt=\"Open In Colab\"/></a>"
      ]
    },
    {
      "cell_type": "code",
      "execution_count": null,
      "id": "Omt6xz6ljwIR",
      "metadata": {
        "id": "Omt6xz6ljwIR"
      },
      "outputs": [],
      "source": [
        "!git clone https://github.com/rsxdalv/tts-webui\n",
        "\n",
        "import os\n",
        "os.chdir(\"./tts-webui\")\n",
        "\n",
        "!pip install -U torch==2.6.0 torchvision torchaudio --extra-index-url https://download.pytorch.org/whl/cu124 xformers==0.0.29.post3 --extra-index-url https://download.pytorch.org/whl/cu124 -r requirements.txt git+https://github.com/rsxdalv/extension_bark_voice_clone@main git+https://github.com/rsxdalv/extension_rvc@main git+https://github.com/rsxdalv/extension_audiocraft@main git+https://github.com/rsxdalv/extension_styletts2@main git+https://github.com/rsxdalv/extension_vall_e_x@main git+https://github.com/rsxdalv/extension_maha_tts@main hydra-core==1.3.2 nvidia-ml-py\n",
        "\n",
        "# Adapted from Dockerfile\n",
        "# Install python dependencies\n",
        "!pip install uv\n",
        "!uv pip install --no-progress --system -r requirements.txt\n",
        "!uv pip install --no-progress --system git+https://github.com/rsxdalv/extension_bark_voice_clone@main\n",
        "!uv pip install --no-progress --system git+https://github.com/rsxdalv/extension_rvc@main\n",
        "!uv pip install --no-progress --system git+https://github.com/rsxdalv/extension_audiocraft@main\n",
        "!uv pip install --no-progress --system git+https://github.com/rsxdalv/extension_styletts2@main\n",
        "!uv pip install --no-progress --system git+https://github.com/rsxdalv/extension_vall_e_x@main\n",
        "!uv pip install --no-progress --system git+https://github.com/rsxdalv/extension_maha_tts@main\n",
        "!pip install --no-progress --system git+https://github.com/rsxdalv/extension_stable_audio@main\n",
        "# !uv pip install --no-progress --system hydra-core==1.3.2\n",
        "!uv pip install --no-progress --system nvidia-ml-py\n",
        "# !uv pip install --no-progress --system soundfile==0.12.1\n",
        "# Possibly unnecesary\n",
        "!uv pip install --no-progress --system huggingface_hub==0.31.2\n",
        "\n",
        "# !git switch python-3.11-compatiblity"
      ]
    },
    {
      "cell_type": "code",
      "execution_count": null,
      "id": "r0FihjXLklZG",
      "metadata": {
        "id": "r0FihjXLklZG"
      },
      "outputs": [],
      "source": [
        "# Start the App\n",
        "!python server.py --share\n",
        "# Note - Node.js/React UI works but isn't accesssible by default on Google Colab, only gradio is easy to open."
      ]
    },
    {
      "cell_type": "code",
      "source": [
        "!nvidia-smi"
      ],
      "metadata": {
        "id": "1-tiEPZv_Riw",
        "outputId": "e59b4b73-361c-4ee0-bbb1-15ea6fb53e3a",
        "colab": {
          "base_uri": "https://localhost:8080/"
        }
      },
      "id": "1-tiEPZv_Riw",
      "execution_count": 3,
      "outputs": [
        {
          "output_type": "stream",
          "name": "stdout",
          "text": [
            "/bin/bash: line 1: nvidia-smi: command not found\n"
          ]
        }
      ]
    },
    {
      "cell_type": "code",
      "source": [
        "import torch"
      ],
      "metadata": {
        "id": "61w4xZC6BwM4"
      },
      "id": "61w4xZC6BwM4",
      "execution_count": 1,
      "outputs": []
    },
    {
      "cell_type": "code",
      "source": [
        "torch.version.cuda"
      ],
      "metadata": {
        "id": "jvF-oAzHBw-c",
        "outputId": "5ade4175-febd-4236-8fed-1072a7c5592f",
        "colab": {
          "base_uri": "https://localhost:8080/",
          "height": 35
        }
      },
      "id": "jvF-oAzHBw-c",
      "execution_count": 2,
      "outputs": [
        {
          "output_type": "execute_result",
          "data": {
            "text/plain": [
              "'12.6'"
            ],
            "application/vnd.google.colaboratory.intrinsic+json": {
              "type": "string"
            }
          },
          "metadata": {},
          "execution_count": 2
        }
      ]
    },
    {
      "cell_type": "code",
      "source": [
        "import torch\n",
        "\n",
        "# 查看 GPU 是否可用\n",
        "print(torch.cuda.is_available())\n",
        "\n",
        "# GPU 数量\n",
        "print(torch.cuda.device_count())\n",
        "\n",
        "# 当前设备\n",
        "print(torch.cuda.current_device())\n",
        "print(torch.cuda.get_device_name(torch.cuda.current_device()))\n",
        "\n",
        "# 显存使用情况（字节）\n",
        "allocated = torch.cuda.memory_allocated()          # 已分配（被张量占用）\n",
        "cached = torch.cuda.memory_reserved()              # 已保留（缓存池保留）\n",
        "print(f\"Allocated: {allocated/1024**2:.2f} MB\")\n",
        "print(f\"Cached: {cached/1024**2:.2f} MB\")\n",
        "\n",
        "# 如果有多个 GPU，可以指定\n",
        "print(torch.cuda.memory_allocated(0))\n",
        "print(torch.cuda.memory_reserved(0))\n"
      ],
      "metadata": {
        "id": "dWPTYeONI-L6",
        "outputId": "604007a6-95f2-4468-d33f-5022be828483",
        "colab": {
          "base_uri": "https://localhost:8080/"
        }
      },
      "id": "dWPTYeONI-L6",
      "execution_count": 5,
      "outputs": [
        {
          "output_type": "stream",
          "name": "stdout",
          "text": [
            "True\n",
            "1\n",
            "0\n",
            "Tesla T4\n",
            "Allocated: 0.00 MB\n",
            "Cached: 0.00 MB\n",
            "0\n",
            "0\n"
          ]
        }
      ]
    },
    {
      "cell_type": "code",
      "source": [
        "import subprocess\n",
        "print(subprocess.getoutput(\"nvidia-smi \"))\n"
      ],
      "metadata": {
        "id": "AZKhtyAdJEjF",
        "outputId": "b148516e-3787-49aa-dcdd-d051ab1f0513",
        "colab": {
          "base_uri": "https://localhost:8080/"
        }
      },
      "id": "AZKhtyAdJEjF",
      "execution_count": 7,
      "outputs": [
        {
          "output_type": "stream",
          "name": "stdout",
          "text": [
            "Tue Aug 26 11:30:09 2025       \n",
            "+-----------------------------------------------------------------------------------------+\n",
            "| NVIDIA-SMI 550.54.15              Driver Version: 550.54.15      CUDA Version: 12.4     |\n",
            "|-----------------------------------------+------------------------+----------------------+\n",
            "| GPU  Name                 Persistence-M | Bus-Id          Disp.A | Volatile Uncorr. ECC |\n",
            "| Fan  Temp   Perf          Pwr:Usage/Cap |           Memory-Usage | GPU-Util  Compute M. |\n",
            "|                                         |                        |               MIG M. |\n",
            "|=========================================+========================+======================|\n",
            "|   0  Tesla T4                       Off |   00000000:00:04.0 Off |                    0 |\n",
            "| N/A   39C    P8              9W /   70W |       2MiB /  15360MiB |      0%      Default |\n",
            "|                                         |                        |                  N/A |\n",
            "+-----------------------------------------+------------------------+----------------------+\n",
            "                                                                                         \n",
            "+-----------------------------------------------------------------------------------------+\n",
            "| Processes:                                                                              |\n",
            "|  GPU   GI   CI        PID   Type   Process name                              GPU Memory |\n",
            "|        ID   ID                                                               Usage      |\n",
            "|=========================================================================================|\n",
            "|  No running processes found                                                             |\n",
            "+-----------------------------------------------------------------------------------------+\n"
          ]
        }
      ]
    },
    {
      "cell_type": "code",
      "source": [
        "torch.cuda.is_available()"
      ],
      "metadata": {
        "id": "mUtIAdaBBzTE",
        "outputId": "6b12f488-f3d3-4510-ef39-c144c8e88e0c",
        "colab": {
          "base_uri": "https://localhost:8080/"
        }
      },
      "id": "mUtIAdaBBzTE",
      "execution_count": 3,
      "outputs": [
        {
          "output_type": "execute_result",
          "data": {
            "text/plain": [
              "True"
            ]
          },
          "metadata": {},
          "execution_count": 3
        }
      ]
    },
    {
      "cell_type": "code",
      "execution_count": null,
      "id": "5be2efe7",
      "metadata": {
        "id": "5be2efe7"
      },
      "outputs": [],
      "source": [
        "# Get latest Node.js\n",
        "# !wget https://nodejs.org/dist/v22.9.0/node-v22.9.0-linux-x64.tar.gz\n",
        "# !tar xfz node-v22.9.0-linux-x64.tar.gz\n",
        "# !cp -r node-v22.9.0-linux-x64/* /usr/local/\n",
        "\n",
        "# # Build the React UI\n",
        "# !cd react-ui && npm install && npm run build"
      ]
    },
    {
      "cell_type": "code",
      "execution_count": null,
      "id": "8da0b5aa",
      "metadata": {
        "id": "8da0b5aa"
      },
      "outputs": [],
      "source": [
        "# For future faster install\n",
        "# !pip install -r ./notebooks/frozen-requirements.txt --no-deps"
      ]
    }
  ],
  "metadata": {
    "colab": {
      "provenance": [],
      "gpuType": "T4",
      "include_colab_link": true
    },
    "kernelspec": {
      "display_name": "Python 3",
      "name": "python3"
    },
    "language_info": {
      "codemirror_mode": {
        "name": "ipython",
        "version": 3
      },
      "file_extension": ".py",
      "mimetype": "text/x-python",
      "name": "python",
      "nbconvert_exporter": "python",
      "pygments_lexer": "ipython3",
      "version": "3.10.11"
    },
    "accelerator": "GPU"
  },
  "nbformat": 4,
  "nbformat_minor": 5
}